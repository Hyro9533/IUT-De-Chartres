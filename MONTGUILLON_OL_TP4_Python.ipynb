{
  "nbformat": 4,
  "nbformat_minor": 0,
  "metadata": {
    "colab": {
      "name": "MONTGUILLON_DUPUIS_OL_TP4_Python.ipynb",
      "provenance": [],
      "authorship_tag": "ABX9TyNuXVzEqXfsgr21mAp7l3Do",
      "include_colab_link": true
    },
    "kernelspec": {
      "name": "python3",
      "display_name": "Python 3"
    },
    "language_info": {
      "name": "python"
    }
  },
  "cells": [
    {
      "cell_type": "markdown",
      "metadata": {
        "id": "view-in-github",
        "colab_type": "text"
      },
      "source": [
        "<a href=\"https://colab.research.google.com/github/Hyro9533/IUT-De-Chartres/blob/main/MONTGUILLON_OL_TP4_Python.ipynb\" target=\"_parent\"><img src=\"https://colab.research.google.com/assets/colab-badge.svg\" alt=\"Open In Colab\"/></a>"
      ]
    },
    {
      "cell_type": "markdown",
      "source": [
        "```python\n",
        "# Exercice III.\n",
        "```\n",
        "\n",
        "\n",
        "\n",
        "`IUT DE Chartres || MONTGUILLON Jonathan && DUPUIS Mathis`"
      ],
      "metadata": {
        "id": "5m8pJ8CMOymE"
      }
    },
    {
      "cell_type": "markdown",
      "source": [
        "```markdown\n",
        "# Enjoy :)\n",
        "```"
      ],
      "metadata": {
        "id": "oIhuSmv5plQJ"
      }
    },
    {
      "cell_type": "markdown",
      "source": [
        "***Soit les complexes suivants :***\n",
        "\n",
        "\n",
        "\n",
        "Catégorie 1  | Catégorie 2 \n",
        "-------------------|------------------\n",
        "z1 = 4 + 3j       | z3 = -3 + j \n",
        "z2 = 5 - 2j       | z4 = -2 -3j \n"
      ],
      "metadata": {
        "id": "3zQTK9Exmf-n"
      }
    },
    {
      "cell_type": "code",
      "source": [
        "import math\n",
        "\n",
        "def roundComplex(x):\n",
        "    return complex(round(x.real,2),round(x.imag,2))\n",
        "\n",
        "\n",
        "def complexeModulo(z):\n",
        "    return math.sqrt((z.real)**2+(z.imag)**2)\n",
        "\n",
        "def complexePhase(z):\n",
        "    return (math.atan((z.imag)/(z.real))*(360))/(math.pi*2)"
      ],
      "metadata": {
        "id": "YrYPvvxkt5Il"
      },
      "execution_count": null,
      "outputs": []
    },
    {
      "cell_type": "code",
      "execution_count": null,
      "metadata": {
        "id": "L73Oy1jhNhnQ",
        "colab": {
          "base_uri": "https://localhost:8080/"
        },
        "outputId": "b8ee311e-e774-4f1f-99c5-d296e85384d1"
      },
      "outputs": [
        {
          "output_type": "stream",
          "name": "stdout",
          "text": [
            "\u001b[96mZ1 =  (7+0j) \n",
            "Z2 =  (5-2j) \n",
            "Z3 =  (-3+1j) \n",
            "Z4 =  (-2-3j) \n",
            "\u001b[96m\n"
          ]
        }
      ],
      "source": [
        "Z1 = complex(4+3)\n",
        "Z2 = complex(5,-2)\n",
        "Z3 = complex(-3,1)\n",
        "Z4 = complex(-2,-3)\n",
        "\n",
        "print(\"\\033[96mZ1 = \",Z1,\"\\nZ2 = \",Z2,\"\\nZ3 = \",Z3,\"\\nZ4 = \",Z4,\"\\n\\033[96m\")"
      ]
    },
    {
      "cell_type": "markdown",
      "source": [
        "***Calculer les sommes algébriques :***\n",
        "\n",
        "--- \n",
        "\n",
        "- s1 = z1 + z3;\n",
        "\n",
        "---\n",
        "\n",
        "- s2 = z2 + z3 - z4;\n",
        "\n",
        "---"
      ],
      "metadata": {
        "id": "nctST2b6nO5U"
      }
    },
    {
      "cell_type": "code",
      "source": [
        "S1 = Z1 + Z3\n",
        "S2 = Z2 + Z3\n",
        "\n",
        "print(\"\\033[96mS1 = \",S1,\"\\nS2 = \",S2,\"\\n\\033[96m\")"
      ],
      "metadata": {
        "colab": {
          "base_uri": "https://localhost:8080/"
        },
        "id": "i5XG_ykVnOv9",
        "outputId": "1214ee23-0d7f-4d76-f276-eb36f63a749e"
      },
      "execution_count": null,
      "outputs": [
        {
          "output_type": "stream",
          "name": "stdout",
          "text": [
            "\u001b[96mS1 =  (4+1j) \n",
            "S2 =  (2-1j) \n",
            "\u001b[96m\n"
          ]
        }
      ]
    },
    {
      "cell_type": "markdown",
      "source": [
        "***Calculer les produis : ***\n",
        "\n",
        "---\n",
        "\n",
        "- p1 = z2 * z3;\n",
        "\n",
        "---\n",
        "\n",
        "- p2 = (z2)$^2$;\n",
        "\n",
        "---\n",
        "\n",
        "- p3 = (z2)$^3$;"
      ],
      "metadata": {
        "id": "lohyj0nQoCNL"
      }
    },
    {
      "cell_type": "code",
      "source": [
        "P1 = Z2 * Z3\n",
        "P2 = Z2**2\n",
        "P3 = Z2**3 \n",
        "\n",
        "print(\"\\033[96mP1 = \",P1,\"\\nP2 = \",P2,\"\\nP3 = \\033[96m\",P3)"
      ],
      "metadata": {
        "colab": {
          "base_uri": "https://localhost:8080/"
        },
        "id": "Fb_yQNW2oCBO",
        "outputId": "7b19cff4-0d1d-44d2-85b0-17d3fa68c806"
      },
      "execution_count": null,
      "outputs": [
        {
          "output_type": "stream",
          "name": "stdout",
          "text": [
            "\u001b[96mP1 =  (-13+11j) \n",
            "P2 =  (21-20j) \n",
            "P3 = \u001b[96m (65-142j)\n"
          ]
        }
      ]
    },
    {
      "cell_type": "markdown",
      "source": [
        "***Calculer les produits quotients :***\n",
        "\n",
        "---\n",
        "\n",
        "- Q1 = $\\frac 1 {Z3}$; \n",
        "\n",
        "---\n",
        "\n",
        "- Q2 = $\\frac {Z4 - Z2} {Z3}$ - Z1;\n",
        "\n",
        "---\n",
        "\n",
        "- Q3 = $\\frac {\\bar {Z4}} {Z2}$\n"
      ],
      "metadata": {
        "id": "2vQpFzJipsNL"
      }
    },
    {
      "cell_type": "code",
      "source": [
        "Z4C = complex(-2,3)\n",
        "\n",
        "Q1 = 1 / Z3\n",
        "Q2 = (Z4 - Z2) / Z1\n",
        "Q3 = Z4C / Z2 \n",
        "\n",
        "print(\"\\033[96mQ1 = \",roundComplex(Q1),\"\\nQ2 = \",roundComplex(Q2),\"\\nQ3 = \\033[96m\",roundComplex(Q3))"
      ],
      "metadata": {
        "colab": {
          "base_uri": "https://localhost:8080/"
        },
        "id": "rBfYsHXZs7_q",
        "outputId": "d3fb0e0e-c82c-453e-d22f-05c7a5f183fb"
      },
      "execution_count": null,
      "outputs": [
        {
          "output_type": "stream",
          "name": "stdout",
          "text": [
            "\u001b[96mQ1 =  (-0.3-0.1j) \n",
            "Q2 =  (-1-0.14j) \n",
            "Q3 = \u001b[96m (-0.55+0.38j)\n"
          ]
        }
      ]
    },
    {
      "cell_type": "markdown",
      "source": [
        "***Déterminer le module et un argument des nombres suivants :***\n",
        "\n",
        "---\n",
        "\n",
        "- Z1; \n",
        "\n",
        "---\n",
        "\n",
        "- Z2;\n",
        "\n",
        "---\n",
        "\n",
        "- Z1 * Z3;\n",
        "\n",
        "---\n",
        "\n",
        "- $\\frac {Z1} {Z2}$;\n",
        "\n",
        "---\n",
        "\n",
        "- $\\frac {\\bar {Z2}} {Z1}$;"
      ],
      "metadata": {
        "id": "LGKc0sxruTLV"
      }
    },
    {
      "cell_type": "code",
      "source": [
        "Z2C = complex(5,2)\n",
        "\n",
        "print(\"\\033[96mQ1Module de Z1 : \", complexeModulo(Z1),\" || Argument de Z1 : \\033[96mQ1\", complexePhase(Z1))\n",
        "\n",
        "print(\"\\n\")\n",
        "\n",
        "print(\"\\033[96mQ1Module de Z2 : \", complexeModulo(Z2),\" || Argument de Z2 : \\033[96mQ1\", complexePhase(Z2))\n",
        "\n",
        "print(\"\\n\")\n",
        "\n",
        "print(\"\\033[96mQ1Module de Z1 * Z3 : \", complexeModulo(Z1 * Z3),\" || Argument de Z1 * Z3 : \\033[96mQ1\", complexePhase(Z1 * Z3))\n",
        "\n",
        "print(\"\\n\")\n",
        "\n",
        "print(\"\\033[96mQ1Module de Z1 / Z2 : \", complexeModulo(Z1 / Z2),\" || Argument de Z1 / Z2 : \\033[96mQ1\", complexePhase(Z1 / Z2))\n",
        "\n",
        "print(\"\\n\")\n",
        "\n",
        "print(\"\\033[96mQ1Module de \\Z2 / Z1 : \", complexeModulo(Z2C / Z1),\" || Argument de \\Z2 / Z1 \\033[96mQ1: \", complexePhase(Z2C / Z1))"
      ],
      "metadata": {
        "colab": {
          "base_uri": "https://localhost:8080/"
        },
        "id": "iNSpgErrvKB6",
        "outputId": "79283672-0269-4786-c54d-269b09f9c7ca"
      },
      "execution_count": null,
      "outputs": [
        {
          "output_type": "stream",
          "name": "stdout",
          "text": [
            "Module de Z1 :  7.0  || Argument de Z1 :  0.0\n",
            "\n",
            "\n",
            "Module de Z2 :  5.385164807134504  || Argument de Z2 :  -21.80140948635181\n",
            "\n",
            "\n",
            "Module de Z1 * Z3 :  22.135943621178654  || Argument de Z1 * Z3 :  -18.43494882292201\n",
            "\n",
            "\n",
            "Module de Z1 / Z2 :  1.299867367239363  || Argument de Z1 / Z2 :  21.80140948635182\n",
            "\n",
            "\n",
            "Module de \\Z2 / Z1 :  0.769309258162072  || Argument de \\Z2 / Z1 :  21.801409486351808\n"
          ]
        }
      ]
    }
  ]
}