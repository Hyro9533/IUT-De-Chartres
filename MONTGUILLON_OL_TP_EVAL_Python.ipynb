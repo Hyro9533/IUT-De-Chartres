{
  "nbformat": 4,
  "nbformat_minor": 0,
  "metadata": {
    "colab": {
      "name": "MONTGUILLON_OL_TP_EVAL_Python.ipynb",
      "provenance": [],
      "authorship_tag": "ABX9TyMKRakt0I4nrDGihP4rFxjj",
      "include_colab_link": true
    },
    "kernelspec": {
      "name": "python3",
      "display_name": "Python 3"
    },
    "language_info": {
      "name": "python"
    }
  },
  "cells": [
    {
      "cell_type": "markdown",
      "metadata": {
        "id": "view-in-github",
        "colab_type": "text"
      },
      "source": [
        "<a href=\"https://colab.research.google.com/github/Hyro9533/IUT-De-Chartres/blob/main/MONTGUILLON_OL_TP_EVAL_Python.ipynb\" target=\"_parent\"><img src=\"https://colab.research.google.com/assets/colab-badge.svg\" alt=\"Open In Colab\"/></a>"
      ]
    },
    {
      "cell_type": "markdown",
      "source": [
        "```python\n",
        "# Exercice III (Python).\n",
        "```\n",
        "\n",
        "\n",
        "\n",
        "`IUT DE Chartres || MONTGUILLON Jonathan`"
      ],
      "metadata": {
        "id": "5m8pJ8CMOymE"
      }
    },
    {
      "cell_type": "markdown",
      "source": [
        "```markdown\n",
        "# Enjoy :)\n",
        "```"
      ],
      "metadata": {
        "id": "oIhuSmv5plQJ"
      }
    },
    {
      "cell_type": "markdown",
      "source": [
        "***Soit les complexes suivants :***\n",
        "\n",
        "\n",
        "\n",
        "Catégorie 1  | Catégorie 2 \n",
        "-------------------|------------------\n",
        "z1 = 3 - 3j       | z3 = -3 + 1j \n",
        "z2 = -4 + 3j       | z4 = 1 -sqrt(3j) \n"
      ],
      "metadata": {
        "id": "3zQTK9Exmf-n"
      }
    },
    {
      "cell_type": "code",
      "source": [
        "from numpy import sqrt \n",
        "import math\n",
        "def roundComplex(x):\n",
        "    return complex(round(x.real,2),round(x.imag,2))\n",
        "\n",
        "\n",
        "def complexeModulo(z):\n",
        "    return math.sqrt((z.real)**2+(z.imag)**2)\n",
        "\n",
        "def complexePhase(z):\n",
        "    return (math.atan((z.imag)/(z.real))*(360))/(math.pi*2)\n",
        "\n",
        "Z1 = complex(3,-3)\n",
        "Z2 = complex(-4,3)\n",
        "Z3 = complex(-3,1)\n",
        "Z4 = complex(1,sqrt(3))\n",
        "\n",
        "print(\"\\033[96mZ1 = \",Z1,\"\\nZ2 = \",Z2,\"\\nZ3 = \",Z3,\"\\nZ4 = \",Z4,\"\\n\\033[96m\")"
      ],
      "metadata": {
        "id": "YrYPvvxkt5Il",
        "colab": {
          "base_uri": "https://localhost:8080/"
        },
        "outputId": "5ff33c84-1c82-40d9-83c2-4c038fe8ee11"
      },
      "execution_count": 6,
      "outputs": [
        {
          "output_type": "stream",
          "name": "stdout",
          "text": [
            "\u001b[96mZ1 =  (3-3j) \n",
            "Z2 =  (-4+3j) \n",
            "Z3 =  (-3+1j) \n",
            "Z4 =  (1+1.7320508075688772j) \n",
            "\u001b[96m\n"
          ]
        }
      ]
    },
    {
      "cell_type": "markdown",
      "source": [
        "***Calculer les sommes algébriques :***\n",
        "\n",
        "--- \n",
        "\n",
        "- s1 = z1 + z3;\n",
        "\n",
        "---\n",
        "\n",
        "- s2 = z2 + z3 - z4;\n",
        "\n",
        "---"
      ],
      "metadata": {
        "id": "iO6WRKOXQWVL"
      }
    },
    {
      "cell_type": "code",
      "execution_count": 7,
      "metadata": {
        "id": "L73Oy1jhNhnQ",
        "colab": {
          "base_uri": "https://localhost:8080/"
        },
        "outputId": "7d5c3b13-afa2-4ab9-b16d-de9df9aefb04"
      },
      "outputs": [
        {
          "output_type": "stream",
          "name": "stdout",
          "text": [
            "\u001b[96mS1 =  -2j \n",
            "S2 =  (-8+2.267949192431123j) \n",
            "\u001b[96m\n"
          ]
        }
      ],
      "source": [
        "S1 = Z1 + Z3\n",
        "S2 = Z2 + Z3 - Z4\n",
        "\n",
        "print(\"\\033[96mS1 = \",S1,\"\\nS2 = \",S2,\"\\n\\033[96m\")"
      ]
    },
    {
      "cell_type": "markdown",
      "source": [
        "**Calculer les produis : **\n",
        "\n",
        "---\n",
        "\n",
        "- p1 = z2 * z3;\n",
        "\n",
        "---\n",
        "\n",
        "- p2 = (z4)$^4$;\n",
        "\n",
        "---\n",
        "\n"
      ],
      "metadata": {
        "id": "8DIzvgTsI9mg"
      }
    },
    {
      "cell_type": "code",
      "source": [
        "P1 = Z2 * Z3\n",
        "P2 = Z4**4\n",
        "\n",
        "print(\"\\033[96mP1 = \",P1,\"\\nP2 = \",P2,\"\\n\\033[96m\")"
      ],
      "metadata": {
        "id": "Yaqz41t1I6K4",
        "colab": {
          "base_uri": "https://localhost:8080/"
        },
        "outputId": "5f768b2c-83e8-4062-bc87-33dd0d1fbdbc"
      },
      "execution_count": 8,
      "outputs": [
        {
          "output_type": "stream",
          "name": "stdout",
          "text": [
            "\u001b[96mP1 =  (9-13j) \n",
            "P2 =  (-8-13.856406460551014j) \n",
            "\u001b[96m\n"
          ]
        }
      ]
    },
    {
      "cell_type": "markdown",
      "source": [
        "***Déterminer le module et un argument des nombres suivants :***\n",
        "\n",
        "---\n",
        "\n",
        "- Z1; \n",
        "\n",
        "---\n",
        "\n",
        "- Z4;\n",
        "\n",
        "---\n",
        "\n",
        "- ${\\bar Z1}$ ;\n",
        "\n",
        "---\n",
        "\n",
        "- Z1 * Z4;\n",
        "\n",
        "---"
      ],
      "metadata": {
        "id": "trzIJxQsFJ9B"
      }
    },
    {
      "cell_type": "code",
      "source": [
        "\n",
        "print(\"\\033[96mQ1Module de Z1 : \", complexeModulo(Z1),\" || Argument de Z1 : \\033[96mQ1\", complexePhase(Z1))\n",
        "\n",
        "print(\"\\n\")\n",
        "\n",
        "print(\"\\033[96mQ1Module de Z4 : \", complexeModulo(Z4),\" || Argument de Z4 : \\033[96mQ1\", complexePhase(Z4))\n",
        "\n",
        "print(\"\\n\")\n",
        "\n",
        "Z1C = complex(3,3)\n",
        "\n",
        "print(\"\\033[96mQ1Module de Z1C : \", complexeModulo(Z1C),\" || Argument de Z1C : \\033[96mQ1\", complexePhase(Z1C))\n",
        "\n",
        "print(\"\\n\")\n",
        "\n",
        "print(\"\\033[96mQ1Module de Z1 * Z4 : \", complexeModulo(Z1 * Z4),\" || Argument de Z1 * Z4 : \\033[96mQ1\", complexePhase(Z1 * Z4))\n",
        "\n",
        "print(\"\\n\")\n"
      ],
      "metadata": {
        "id": "0F6cB1R1FQoG",
        "colab": {
          "base_uri": "https://localhost:8080/"
        },
        "outputId": "199c0523-05d4-4790-d904-7a048b3ea3c8"
      },
      "execution_count": 9,
      "outputs": [
        {
          "output_type": "stream",
          "name": "stdout",
          "text": [
            "\u001b[96mQ1Module de Z1 :  4.242640687119285  || Argument de Z1 : \u001b[96mQ1 -45.0\n",
            "\n",
            "\n",
            "\u001b[96mQ1Module de Z4 :  1.9999999999999998  || Argument de Z4 : \u001b[96mQ1 59.99999999999999\n",
            "\n",
            "\n",
            "\u001b[96mQ1Module de Z1C :  4.242640687119285  || Argument de Z1C : \u001b[96mQ1 45.0\n",
            "\n",
            "\n",
            "\u001b[96mQ1Module de Z1 * Z4 :  8.48528137423857  || Argument de Z1 * Z4 : \u001b[96mQ1 14.999999999999998\n",
            "\n",
            "\n"
          ]
        }
      ]
    }
  ]
}