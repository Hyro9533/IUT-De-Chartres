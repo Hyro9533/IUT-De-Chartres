{
  "nbformat": 4,
  "nbformat_minor": 0,
  "metadata": {
    "colab": {
      "name": "MONTGUILLON_OL_TP6_Python.ipynb",
      "provenance": [],
      "authorship_tag": "ABX9TyPmvS1AOW4iLHnJTI7r6Zkl",
      "include_colab_link": true
    },
    "kernelspec": {
      "name": "python3",
      "display_name": "Python 3"
    },
    "language_info": {
      "name": "python"
    }
  },
  "cells": [
    {
      "cell_type": "markdown",
      "metadata": {
        "id": "view-in-github",
        "colab_type": "text"
      },
      "source": [
        "<a href=\"https://colab.research.google.com/github/Hyro9533/IUT-De-Chartres/blob/main/MONTGUILLON_OL_TP6_Python.ipynb\" target=\"_parent\"><img src=\"https://colab.research.google.com/assets/colab-badge.svg\" alt=\"Open In Colab\"/></a>"
      ]
    },
    {
      "cell_type": "markdown",
      "source": [
        "```python\n",
        "# Exercice VI.\n",
        "```\n",
        "\n",
        "\n",
        "\n",
        "`IUT DE Chartres || MONTGUILLON Jonathan`"
      ],
      "metadata": {
        "id": "5m8pJ8CMOymE"
      }
    },
    {
      "cell_type": "markdown",
      "source": [
        "```markdown\n",
        "# Enjoy :)\n",
        "```"
      ],
      "metadata": {
        "id": "oIhuSmv5plQJ"
      }
    },
    {
      "cell_type": "markdown",
      "source": [
        "***On travaillera avec les bibliothèques suivantes :***\n",
        "\n",
        "\n",
        "\n",
        "\n",
        "\n",
        "Numpy -- https://numpy.org/install/\n",
        "\n",
        "---\n",
        "\n",
        "Matplotlib -- https://matplotlib.org/stable/users/getting_started/index.html#installation-quick-start\n",
        "\n",
        "**Ces deux librairies sont contaténées à travers Pylab.**\n",
        "\n",
        "Plus d'informations ici : https://queirozf.com/entries/matplotlib-pylab-pyplot-etc-what-s-the-different-between-these\n"
      ],
      "metadata": {
        "id": "3zQTK9Exmf-n"
      }
    },
    {
      "cell_type": "code",
      "source": [
        "#import numpy as np\n",
        "\n",
        "#import matplotlib.pyplot as plt\n",
        "\n",
        "from pylab import *\n",
        "\n",
        "from scipy.misc import derivative\n"
      ],
      "metadata": {
        "id": "YrYPvvxkt5Il"
      },
      "execution_count": 1,
      "outputs": []
    },
    {
      "cell_type": "markdown",
      "source": [
        "I. __**Définition des variables**__"
      ],
      "metadata": {
        "id": "iO6WRKOXQWVL"
      }
    },
    {
      "cell_type": "markdown",
      "source": [
        "- *Soit g(x) et f(x)*"
      ],
      "metadata": {
        "id": "eP_oK0y1I0C5"
      }
    },
    {
      "cell_type": "code",
      "execution_count": 2,
      "metadata": {
        "id": "L73Oy1jhNhnQ"
      },
      "outputs": [],
      "source": [
        "def f(x) : \n",
        "    return 2*x*exp(x) \n",
        "\n",
        "def g(x):\n",
        "    return 2*( (1+x) / (3+x) )"
      ]
    },
    {
      "cell_type": "markdown",
      "source": [
        "- *Soit g'(x) et f'(x), ses dérivés*"
      ],
      "metadata": {
        "id": "8DIzvgTsI9mg"
      }
    },
    {
      "cell_type": "code",
      "source": [
        "def f_d(x) : \n",
        "    return derivative(f, x, dx=1e-6)\n",
        "\n",
        "def g_d(x):\n",
        "    return derivative(g, x, dx=1e-6)"
      ],
      "metadata": {
        "id": "Yaqz41t1I6K4"
      },
      "execution_count": 3,
      "outputs": []
    },
    {
      "cell_type": "markdown",
      "source": [
        "- *Soit g(x) et f(x), ses asymptotes à la valeur 6*"
      ],
      "metadata": {
        "id": "trzIJxQsFJ9B"
      }
    },
    {
      "cell_type": "code",
      "source": [
        "def tangeante_f(x,xOfF) :\n",
        "    return f_d(xOfF)*(x-xOfF)+f(xOfF)\n",
        "\n",
        "def tangeante_g(x,xOfG) :\n",
        "    return g_d(xOfG)*(x-xOfG)+g(xOfG)"
      ],
      "metadata": {
        "id": "0F6cB1R1FQoG"
      },
      "execution_count": 29,
      "outputs": []
    },
    {
      "cell_type": "markdown",
      "source": [
        "- *Essaies*"
      ],
      "metadata": {
        "id": "L3HyVWc3I4jz"
      }
    },
    {
      "cell_type": "code",
      "source": [
        "x = np.linspace(1,10,100)\n",
        "\n",
        "print(f(2))\n",
        "print(g(2))\n",
        "\n",
        "print(f_d(2))\n",
        "print(g_d(2))"
      ],
      "metadata": {
        "colab": {
          "base_uri": "https://localhost:8080/"
        },
        "id": "FCbxL1qHHR8s",
        "outputId": "06b346c7-47d6-4c67-a440-8cfb86cd986c"
      },
      "execution_count": 5,
      "outputs": [
        {
          "output_type": "stream",
          "name": "stdout",
          "text": [
            "29.5562243957226\n",
            "1.2\n",
            "44.334336594786805\n",
            "0.16000000002680537\n"
          ]
        }
      ]
    },
    {
      "cell_type": "markdown",
      "source": [
        "**II. Traçage du graphique :**"
      ],
      "metadata": {
        "id": "LJvN7pwRJTGw"
      }
    },
    {
      "cell_type": "markdown",
      "source": [
        "- *Pour F(x)*"
      ],
      "metadata": {
        "id": "icTJTDUFJoHo"
      }
    },
    {
      "cell_type": "code",
      "source": [
        "plt.plot(x,f(x))\n",
        "plt.plot(x,tangeante_f(x,1))\n",
        "\n",
        "plt.title(\"Graph de F(x) et sa tangente.\")\n",
        "\n",
        "plt.xlabel(\"Etendue de mesure\")\n",
        "plt.ylabel(\"Ordonée\")\n",
        "\n",
        "plt.legend(\"ft\")\n",
        "\n",
        "plt.grid()\n",
        "\n",
        "\n",
        "plt.show()"
      ],
      "metadata": {
        "colab": {
          "base_uri": "https://localhost:8080/",
          "height": 295
        },
        "id": "JJsV7z5oJqEL",
        "outputId": "7c25ff4a-b1fa-4a72-b1b5-0215f0e78017"
      },
      "execution_count": 37,
      "outputs": [
        {
          "output_type": "display_data",
          "data": {
            "image/png": "[encoded data removed]",
            "text/plain": [
              "<Figure size 432x288 with 1 Axes>"
            ]
          },
          "metadata": {
            "needs_background": "light"
          }
        }
      ]
    },
    {
      "cell_type": "markdown",
      "source": [
        "- *Pour G(x)*"
      ],
      "metadata": {
        "id": "1dhVgpRXKo5O"
      }
    },
    {
      "cell_type": "code",
      "source": [
        "plt.plot(x,g(x))\n",
        "plt.plot(x,tangeante_g(x,1))\n",
        "\n",
        "plt.title(\"Graph de G(x) et sa tangente.\")\n",
        "\n",
        "plt.xlabel(\"Etendue de mesure\")\n",
        "plt.ylabel(\"Ordonée\")\n",
        "\n",
        "plt.legend(\"ft\")\n",
        "\n",
        "plt.grid()\n",
        "\n",
        "plt.show()"
      ],
      "metadata": {
        "colab": {
          "base_uri": "https://localhost:8080/",
          "height": 295
        },
        "id": "qBsTMurfEABf",
        "outputId": "e80dc738-87bf-49da-f39b-8bea74c9661c"
      },
      "execution_count": 36,
      "outputs": [
        {
          "output_type": "display_data",
          "data": {
            "image/png": "[encoded data removed]",
            "text/plain": [
              "<Figure size 432x288 with 1 Axes>"
            ]
          },
          "metadata": {
            "needs_background": "light"
          }
        }
      ]
    },
    {
      "cell_type": "markdown",
      "source": [
        "**III. Asymptote Graphique :**"
      ],
      "metadata": {
        "id": "ioXkaCO0Kf45"
      }
    },
    {
      "cell_type": "markdown",
      "source": [
        "\n",
        "\n",
        "*   Soit les fonctions suivantes :\n",
        "\n"
      ],
      "metadata": {
        "id": "-LbtGeSMELrH"
      }
    },
    {
      "cell_type": "code",
      "source": [
        "def j(x) :\n",
        "    return (x*x+2*x+2)/(x-1)\n",
        "\n",
        "def i(i) :\n",
        "    return sqrt(x*x+1)+2*x+1"
      ],
      "metadata": {
        "id": "i_Tzx321EQnK"
      },
      "execution_count": 46,
      "outputs": []
    },
    {
      "cell_type": "code",
      "source": [
        "def asymptote_j(x):\n",
        "    return x+3\n",
        "\n",
        "def asymptote_i(x):\n",
        "    return 3*(x-80.667)+243.007"
      ],
      "metadata": {
        "id": "5_Z1UmyDEvVW"
      },
      "execution_count": 44,
      "outputs": []
    },
    {
      "cell_type": "code",
      "source": [
        "x_ens = linspace(5,30,100)\n",
        "\n",
        "plot(x_ens,j(x_ens))\n",
        "\n",
        "plot(x_ens,asymptote_j(x_ens))\n",
        "\n",
        "plt.title(\"Graph de J(x) et une de ses asymptotes.\")\n",
        "\n",
        "plt.xlabel(\"Etendue de mesure\")\n",
        "plt.ylabel(\"Ordonée\")\n",
        "\n",
        "plt.legend(\"ja\")\n",
        "\n",
        "plt.grid()\n",
        "\n",
        "plt.show()\n"
      ],
      "metadata": {
        "colab": {
          "base_uri": "https://localhost:8080/",
          "height": 295
        },
        "id": "8gcHQWOCEzvT",
        "outputId": "931d7213-8872-4656-9999-207638abe468"
      },
      "execution_count": 42,
      "outputs": [
        {
          "output_type": "display_data",
          "data": {
            "image/png": "[encoded data removed]",
            "text/plain": [
              "<Figure size 432x288 with 1 Axes>"
            ]
          },
          "metadata": {
            "needs_background": "light"
          }
        }
      ]
    },
    {
      "cell_type": "code",
      "source": [
        "\n",
        "\n",
        "plot(x,i(x))\n",
        "\n",
        "plot(x,asymptote_i(x))\n",
        "\n",
        "plt.title(\"Graph de I(x) et une de ses asymptotes.\")\n",
        "\n",
        "plt.xlabel(\"Etendue de mesure\")\n",
        "plt.ylabel(\"Ordonée\")\n",
        "\n",
        "plt.legend(\"ia\")\n",
        "\n",
        "plt.grid()\n",
        "\n",
        "plt.show()\n"
      ],
      "metadata": {
        "colab": {
          "base_uri": "https://localhost:8080/",
          "height": 295
        },
        "id": "jhvIhbgIFs10",
        "outputId": "5de5f6e1-b735-4b3c-86ee-bb884fb9e85d"
      },
      "execution_count": 48,
      "outputs": [
        {
          "output_type": "display_data",
          "data": {
            "image/png": "[encoded data removed]",
            "text/plain": [
              "<Figure size 432x288 with 1 Axes>"
            ]
          },
          "metadata": {
            "needs_background": "light"
          }
        }
      ]
    }
  ]
}